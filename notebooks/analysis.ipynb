{
  "cells": [
    {
      "cell_type": "markdown",
      "metadata": {},
      "source": [
        "# Retail Sales Analysis\n",
        "\n",
        "This notebook analyzes retail sales data to identify trends, top-selling products, and forecast future sales. Includes EDA, visualizations, and ARIMA forecasting."
      ]
    },
    {
      "cell_type": "code",
      "execution_count": null,
      "metadata": {},
      "outputs": [],
      "source": [
        "import pandas as pd\n",
        "import matplotlib.pyplot as plt\n",
        "import seaborn as sns\n",
        "import statsmodels.api as sm\n",
        "from statsmodels.tsa.arima.model import ARIMA\n",
        "import warnings\n",
        "warnings.filterwarnings('ignore')\n",
        "\n",
        "# Set plot style\n",
        "sns.set(style='whitegrid')\n",
        "\n",
        "# Load data\n",
        "try:\n",
        "    df = pd.read_csv('C:/Users/user/Documents/retail-sales-analysis/data/retail_sales.csv')\n",
        "    print('Data loaded successfully')\n",
        "    print(df.head())\n",
        "except FileNotFoundError:\n",
        "    print('Error: retail_sales.csv not found in data/')\n",
        "    raise\n",
        "\n",
        "# Convert Date to datetime\n",
        "df['Date'] = pd.to_datetime(df['Date'])\n",
        "print('Date converted to datetime')"
      ]
    },
    {
      "cell_type": "code",
      "execution_count": null,
      "metadata": {},
      "outputs": [],
      "source": [
        "# EDA: Basic statistics\n",
        "print('Dataset Info:')\n",
        "print(df.info())\n",
        "print('\\nSummary Statistics:')\n",
        "print(df.describe())\n",
        "\n",
        "# Check missing values\n",
        "print('\\nMissing Values:')\n",
        "print(df.isnull().sum())\n",
        "\n",
        "# Sales by category\n",
        "category_sales = df.groupby('Product Category')['Total Amount'].sum().sort_values(ascending=False)\n",
        "print('\\nSales by Category:')\n",
        "print(category_sales)"
      ]
    },
    {
      "cell_type": "code",
      "execution_count": null,
      "metadata": {},
      "outputs": [],
      "source": [
        "# Visualize sales trend over time\n",
        "monthly_sales = df.groupby(df['Date'].dt.to_period('M'))['Total Amount'].sum()\n",
        "plt.figure(figsize=(10, 6))\n",
        "monthly_sales.plot()\n",
        "plt.title('Monthly Sales Trend')\n",
        "plt.xlabel('Month')\n",
        "plt.ylabel('Total Sales ($)') \n",
        "plt.xticks(rotation=45)\n",
        "plt.tight_layout()\n",
        "plt.savefig('C:/Users/user/Documents/retail-sales-analysis/figures/sales_trend.png')\n",
        "plt.show()\n",
        "print('Sales trend plot saved')"
      ]
    },
    {
      "cell_type": "code",
      "execution_count": null,
      "metadata": {},
      "outputs": [],
      "source": [
        "# Visualize top products by sales\n",
        "top_products = df.groupby('Product Category')['Total Amount'].sum().sort_values(ascending=False).head(10)\n",
        "plt.figure(figsize=(10, 6))\n",
        "sns.barplot(x=top_products.values, y=top_products.index)\n",
        "plt.title('Top Product Categories by Sales')\n",
        "plt.xlabel('Total Sales ($)')\n",
        "plt.ylabel('Product Category')\n",
        "plt.tight_layout()\n",
        "plt.savefig('C:/Users/user/Documents/retail-sales-analysis/figures/top_products.png')\n",
        "plt.show()\n",
        "print('Top products plot saved')"
      ]
    },
    {
      "cell_type": "code",
      "execution_count": null,
      "metadata": {},
      "outputs": [],
      "source": [
        "# Sales forecasting with ARIMA\n",
        "monthly_sales_ts = monthly_sales.to_timestamp()\n",
        "model = ARIMA(monthly_sales_ts, order=(1, 1, 1))\n",
        "results = model.fit()\n",
        "forecast = results.forecast(steps=12)\n",
        "\n",
        "plt.figure(figsize=(10, 6))\n",
        "plt.plot(monthly_sales_ts, label='Historical Sales')\n",
        "plt.plot(forecast, label='Forecast', color='red')\n",
        "plt.title('Sales Forecast (12 Months)')\n",
        "plt.xlabel('Date')\n",
        "plt.ylabel('Total Sales ($)')\n",
        "plt.legend()\n",
        "plt.tight_layout()\n",
        "plt.savefig('C:/Users/user/Documents/retail-sales-analysis/figures/sales_forecast.png')\n",
        "plt.show()\n",
        "print('Sales forecast plot saved')\n",
        "\n",
        "# Save processed data\n",
        "df.to_csv('C:/Users/user/Documents/retail-sales-analysis/data/processed_sales.csv', index=False)\n",
        "print('Processed data saved')"
      ]
    }
  ],
  "metadata": {
    "kernelspec": {
      "display_name": "Python 3",
      "language": "python",
      "name": "python3"
    },
    "language_info": {
      "codemirror_mode": {
        "name": "ipython",
        "version": 3
      },
      "file_extension": ".py",
      "mimetype": "text/x-python",
      "name": "python",
      "nbconvert_exporter": "python",
      "pygments_lexer": "ipython3",
      "version": "3.12.6"
    }
  },
  "nbformat": 4,
  "nbformat_minor": 4
}
